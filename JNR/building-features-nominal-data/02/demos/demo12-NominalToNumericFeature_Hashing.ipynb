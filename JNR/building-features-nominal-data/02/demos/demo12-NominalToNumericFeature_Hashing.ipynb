{
 "cells": [
  {
   "cell_type": "markdown",
   "metadata": {},
   "source": [
    "https://scikit-learn.org/stable/modules/generated/sklearn.feature_extraction.FeatureHasher.html"
   ]
  },
  {
   "cell_type": "markdown",
   "metadata": {},
   "source": [
    "## sklearn.feature_extraction.FeatureHasher\n",
    "This class turns sequences of symbolic feature names (strings) into scipy.sparse matrices, using a hash function to compute the matrix column corresponding to a name. The hash function employed is the signed 32-bit version of `Murmurhash3`"
   ]
  },
  {
   "cell_type": "code",
   "execution_count": 40,
   "metadata": {},
   "outputs": [],
   "source": [
    "import pandas as pd\n",
    "import numpy as np\n",
    "\n",
    "import seaborn as sns\n",
    "import matplotlib.pyplot as plt\n",
    "\n",
    "from sklearn.feature_extraction import FeatureHasher"
   ]
  },
  {
   "cell_type": "markdown",
   "metadata": {},
   "source": [
    "### Creating a object of FeatureHasher"
   ]
  },
  {
   "cell_type": "code",
   "execution_count": 2,
   "metadata": {},
   "outputs": [],
   "source": [
    "hasher_dict = FeatureHasher(n_features=5, input_type='dict')"
   ]
  },
  {
   "cell_type": "markdown",
   "metadata": {},
   "source": [
    "* `n_features` : Required number of features (columns) in the output matrices.\n",
    "\n",
    "* `input_type` : string, pair, default “dict”"
   ]
  },
  {
   "cell_type": "markdown",
   "metadata": {},
   "source": [
    "### Fitting and transforming dictionary "
   ]
  },
  {
   "cell_type": "code",
   "execution_count": 3,
   "metadata": {},
   "outputs": [],
   "source": [
    "random_dict = hasher_dict.fit_transform([{'a':1, 'b':2},\n",
    "                                         {'a':0, 'c':5}])"
   ]
  },
  {
   "cell_type": "code",
   "execution_count": 4,
   "metadata": {},
   "outputs": [
    {
     "data": {
      "text/plain": [
       "<2x5 sparse matrix of type '<class 'numpy.float64'>'\n",
       "\twith 3 stored elements in Compressed Sparse Row format>"
      ]
     },
     "execution_count": 4,
     "metadata": {},
     "output_type": "execute_result"
    }
   ],
   "source": [
    "random_dict"
   ]
  },
  {
   "cell_type": "code",
   "execution_count": 5,
   "metadata": {},
   "outputs": [
    {
     "data": {
      "text/plain": [
       "(2, 5)"
      ]
     },
     "execution_count": 5,
     "metadata": {},
     "output_type": "execute_result"
    }
   ],
   "source": [
    "random_dict.shape"
   ]
  },
  {
   "cell_type": "code",
   "execution_count": 6,
   "metadata": {},
   "outputs": [
    {
     "data": {
      "text/plain": [
       "scipy.sparse.csr.csr_matrix"
      ]
     },
     "execution_count": 6,
     "metadata": {},
     "output_type": "execute_result"
    }
   ],
   "source": [
    "type(random_dict)"
   ]
  },
  {
   "cell_type": "markdown",
   "metadata": {},
   "source": [
    "### Printing the sparse matrix as numpy array"
   ]
  },
  {
   "cell_type": "code",
   "execution_count": 7,
   "metadata": {},
   "outputs": [
    {
     "data": {
      "text/plain": [
       "array([[ 1., -2.,  0.,  0.,  0.],\n",
       "       [ 0.,  0., -5.,  0.,  0.]])"
      ]
     },
     "execution_count": 7,
     "metadata": {},
     "output_type": "execute_result"
    }
   ],
   "source": [
    "random_dict.toarray()"
   ]
  },
  {
   "cell_type": "markdown",
   "metadata": {},
   "source": [
    "* As number of features to be saved in the output is specified is `5` so the number column is `5`"
   ]
  },
  {
   "cell_type": "markdown",
   "metadata": {},
   "source": [
    "### Instantiating feature hasher to hash `pair` as input"
   ]
  },
  {
   "cell_type": "code",
   "execution_count": 8,
   "metadata": {},
   "outputs": [],
   "source": [
    "hasher_pair = FeatureHasher(n_features=5, input_type='pair')"
   ]
  },
  {
   "cell_type": "markdown",
   "metadata": {},
   "source": [
    "### Fitting and transforming pair"
   ]
  },
  {
   "cell_type": "code",
   "execution_count": 9,
   "metadata": {},
   "outputs": [],
   "source": [
    "random_pair = hasher_pair.fit_transform([[('a', 1), ('b', 2)],\n",
    "                                        [('a', 0), ('c', 5)]])"
   ]
  },
  {
   "cell_type": "code",
   "execution_count": 10,
   "metadata": {},
   "outputs": [
    {
     "data": {
      "text/plain": [
       "array([[ 1., -2.,  0.,  0.,  0.],\n",
       "       [ 0.,  0., -5.,  0.,  0.]])"
      ]
     },
     "execution_count": 10,
     "metadata": {},
     "output_type": "execute_result"
    }
   ],
   "source": [
    "random_pair.toarray()"
   ]
  },
  {
   "cell_type": "markdown",
   "metadata": {},
   "source": [
    "### Feature hasher does not provide inverse transformation"
   ]
  },
  {
   "cell_type": "code",
   "execution_count": 11,
   "metadata": {},
   "outputs": [
    {
     "ename": "AttributeError",
     "evalue": "'FeatureHasher' object has no attribute 'inverse_transform'",
     "output_type": "error",
     "traceback": [
      "\u001b[0;31m---------------------------------------------------------------------------\u001b[0m",
      "\u001b[0;31mAttributeError\u001b[0m                            Traceback (most recent call last)",
      "\u001b[0;32m<ipython-input-11-a9dc9d7c5fde>\u001b[0m in \u001b[0;36m<module>\u001b[0;34m()\u001b[0m\n\u001b[0;32m----> 1\u001b[0;31m \u001b[0mhasher_pair\u001b[0m\u001b[0;34m.\u001b[0m\u001b[0minverse_transform\u001b[0m\u001b[0;34m(\u001b[0m\u001b[0mrandom_pair\u001b[0m\u001b[0;34m)\u001b[0m\u001b[0;34m\u001b[0m\u001b[0m\n\u001b[0m",
      "\u001b[0;31mAttributeError\u001b[0m: 'FeatureHasher' object has no attribute 'inverse_transform'"
     ]
    }
   ],
   "source": [
    "hasher_pair.inverse_transform(random_pair)"
   ]
  },
  {
   "cell_type": "markdown",
   "metadata": {},
   "source": [
    "### Instantiating feature hasher to hash `string` as input"
   ]
  },
  {
   "cell_type": "code",
   "execution_count": 12,
   "metadata": {},
   "outputs": [],
   "source": [
    "text = [\"Where there’s a will, there’s a way\",\n",
    "        \"Look before you leap\",\n",
    "        \"The early bird catches the worm\",\n",
    "        \"Better late than never\"]"
   ]
  },
  {
   "cell_type": "code",
   "execution_count": 13,
   "metadata": {},
   "outputs": [],
   "source": [
    "hasher = FeatureHasher(n_features=8, input_type='string')"
   ]
  },
  {
   "cell_type": "markdown",
   "metadata": {},
   "source": [
    "### Encoding the text"
   ]
  },
  {
   "cell_type": "code",
   "execution_count": 14,
   "metadata": {},
   "outputs": [],
   "source": [
    "hashed_features = hasher.fit_transform(text)"
   ]
  },
  {
   "cell_type": "code",
   "execution_count": 15,
   "metadata": {},
   "outputs": [
    {
     "name": "stdout",
     "output_type": "stream",
     "text": [
      "(4, 8)\n"
     ]
    }
   ],
   "source": [
    "print(hashed_features.shape)"
   ]
  },
  {
   "cell_type": "markdown",
   "metadata": {},
   "source": [
    "### Printing the sparse matrix as numpy array"
   ]
  },
  {
   "cell_type": "code",
   "execution_count": 16,
   "metadata": {},
   "outputs": [
    {
     "data": {
      "text/plain": [
       "array([[ 5.,  1.,  1., -3.,  2., -4.,  1.,  4.],\n",
       "       [ 4.,  0.,  1.,  5.,  1., -1.,  0.,  2.],\n",
       "       [ 5.,  0.,  2.,  0.,  2., -6.,  1.,  3.],\n",
       "       [ 3.,  2.,  2., -5., -1., -1., -1.,  5.]])"
      ]
     },
     "execution_count": 16,
     "metadata": {},
     "output_type": "execute_result"
    }
   ],
   "source": [
    "hashed_features.toarray()"
   ]
  },
  {
   "cell_type": "markdown",
   "metadata": {},
   "source": [
    "## Now applying feature hashing on nominal features"
   ]
  },
  {
   "cell_type": "markdown",
   "metadata": {},
   "source": [
    "### Reading a CSV file"
   ]
  },
  {
   "cell_type": "markdown",
   "metadata": {},
   "source": [
    "#### It is a atmospheric readings dataset of different days from January to June month\n",
    "https://github.com/selva86/datasets/blob/master/ozone.csv"
   ]
  },
  {
   "cell_type": "code",
   "execution_count": 18,
   "metadata": {},
   "outputs": [
    {
     "data": {
      "text/html": [
       "<div>\n",
       "<style scoped>\n",
       "    .dataframe tbody tr th:only-of-type {\n",
       "        vertical-align: middle;\n",
       "    }\n",
       "\n",
       "    .dataframe tbody tr th {\n",
       "        vertical-align: top;\n",
       "    }\n",
       "\n",
       "    .dataframe thead th {\n",
       "        text-align: right;\n",
       "    }\n",
       "</style>\n",
       "<table border=\"1\" class=\"dataframe\">\n",
       "  <thead>\n",
       "    <tr style=\"text-align: right;\">\n",
       "      <th></th>\n",
       "      <th>Month</th>\n",
       "      <th>Day_of_month</th>\n",
       "      <th>ozone_reading</th>\n",
       "      <th>pressure_height</th>\n",
       "      <th>Wind_speed</th>\n",
       "      <th>Humidity</th>\n",
       "      <th>Inversion_temperature</th>\n",
       "      <th>Visibility</th>\n",
       "    </tr>\n",
       "  </thead>\n",
       "  <tbody>\n",
       "    <tr>\n",
       "      <th>25</th>\n",
       "      <td>February</td>\n",
       "      <td>13</td>\n",
       "      <td>5.80</td>\n",
       "      <td>5700</td>\n",
       "      <td>4</td>\n",
       "      <td>86</td>\n",
       "      <td>53.78</td>\n",
       "      <td>200</td>\n",
       "    </tr>\n",
       "    <tr>\n",
       "      <th>81</th>\n",
       "      <td>May</td>\n",
       "      <td>12</td>\n",
       "      <td>33.04</td>\n",
       "      <td>5880</td>\n",
       "      <td>3</td>\n",
       "      <td>80</td>\n",
       "      <td>86.36</td>\n",
       "      <td>40</td>\n",
       "    </tr>\n",
       "    <tr>\n",
       "      <th>40</th>\n",
       "      <td>March</td>\n",
       "      <td>10</td>\n",
       "      <td>3.01</td>\n",
       "      <td>5530</td>\n",
       "      <td>5</td>\n",
       "      <td>61</td>\n",
       "      <td>35.60</td>\n",
       "      <td>200</td>\n",
       "    </tr>\n",
       "    <tr>\n",
       "      <th>26</th>\n",
       "      <td>February</td>\n",
       "      <td>17</td>\n",
       "      <td>10.60</td>\n",
       "      <td>5770</td>\n",
       "      <td>5</td>\n",
       "      <td>68</td>\n",
       "      <td>55.76</td>\n",
       "      <td>200</td>\n",
       "    </tr>\n",
       "    <tr>\n",
       "      <th>77</th>\n",
       "      <td>May</td>\n",
       "      <td>6</td>\n",
       "      <td>2.39</td>\n",
       "      <td>5680</td>\n",
       "      <td>6</td>\n",
       "      <td>77</td>\n",
       "      <td>40.82</td>\n",
       "      <td>120</td>\n",
       "    </tr>\n",
       "    <tr>\n",
       "      <th>90</th>\n",
       "      <td>June</td>\n",
       "      <td>8</td>\n",
       "      <td>6.68</td>\n",
       "      <td>5650</td>\n",
       "      <td>6</td>\n",
       "      <td>66</td>\n",
       "      <td>55.40</td>\n",
       "      <td>120</td>\n",
       "    </tr>\n",
       "    <tr>\n",
       "      <th>49</th>\n",
       "      <td>March</td>\n",
       "      <td>23</td>\n",
       "      <td>10.18</td>\n",
       "      <td>5710</td>\n",
       "      <td>5</td>\n",
       "      <td>77</td>\n",
       "      <td>60.44</td>\n",
       "      <td>250</td>\n",
       "    </tr>\n",
       "    <tr>\n",
       "      <th>1</th>\n",
       "      <td>January</td>\n",
       "      <td>6</td>\n",
       "      <td>5.77</td>\n",
       "      <td>5720</td>\n",
       "      <td>4</td>\n",
       "      <td>69</td>\n",
       "      <td>53.78</td>\n",
       "      <td>60</td>\n",
       "    </tr>\n",
       "    <tr>\n",
       "      <th>48</th>\n",
       "      <td>March</td>\n",
       "      <td>22</td>\n",
       "      <td>8.93</td>\n",
       "      <td>5730</td>\n",
       "      <td>4</td>\n",
       "      <td>32</td>\n",
       "      <td>75.74</td>\n",
       "      <td>200</td>\n",
       "    </tr>\n",
       "    <tr>\n",
       "      <th>5</th>\n",
       "      <td>January</td>\n",
       "      <td>12</td>\n",
       "      <td>6.39</td>\n",
       "      <td>5720</td>\n",
       "      <td>3</td>\n",
       "      <td>44</td>\n",
       "      <td>63.14</td>\n",
       "      <td>150</td>\n",
       "    </tr>\n",
       "  </tbody>\n",
       "</table>\n",
       "</div>"
      ],
      "text/plain": [
       "       Month  Day_of_month  ozone_reading  pressure_height  Wind_speed  \\\n",
       "25  February            13           5.80             5700           4   \n",
       "81       May            12          33.04             5880           3   \n",
       "40     March            10           3.01             5530           5   \n",
       "26  February            17          10.60             5770           5   \n",
       "77       May             6           2.39             5680           6   \n",
       "90      June             8           6.68             5650           6   \n",
       "49     March            23          10.18             5710           5   \n",
       "1    January             6           5.77             5720           4   \n",
       "48     March            22           8.93             5730           4   \n",
       "5    January            12           6.39             5720           3   \n",
       "\n",
       "    Humidity  Inversion_temperature  Visibility  \n",
       "25        86                  53.78         200  \n",
       "81        80                  86.36          40  \n",
       "40        61                  35.60         200  \n",
       "26        68                  55.76         200  \n",
       "77        77                  40.82         120  \n",
       "90        66                  55.40         120  \n",
       "49        77                  60.44         250  \n",
       "1         69                  53.78          60  \n",
       "48        32                  75.74         200  \n",
       "5         44                  63.14         150  "
      ]
     },
     "execution_count": 18,
     "metadata": {},
     "output_type": "execute_result"
    }
   ],
   "source": [
    "ozone_reading = pd.read_csv('datasets/ozone_reading.csv')\n",
    "\n",
    "ozone_reading.sample(10)"
   ]
  },
  {
   "cell_type": "markdown",
   "metadata": {},
   "source": [
    "### Printing the shape"
   ]
  },
  {
   "cell_type": "code",
   "execution_count": 25,
   "metadata": {},
   "outputs": [
    {
     "data": {
      "text/plain": [
       "array(['January', 'February', 'March', 'April', 'May', 'June'],\n",
       "      dtype=object)"
      ]
     },
     "execution_count": 25,
     "metadata": {},
     "output_type": "execute_result"
    }
   ],
   "source": [
    "ozone_reading['Month'].unique()"
   ]
  },
  {
   "cell_type": "markdown",
   "metadata": {},
   "source": [
    "### Statistical summary"
   ]
  },
  {
   "cell_type": "code",
   "execution_count": 26,
   "metadata": {},
   "outputs": [
    {
     "data": {
      "text/html": [
       "<div>\n",
       "<style scoped>\n",
       "    .dataframe tbody tr th:only-of-type {\n",
       "        vertical-align: middle;\n",
       "    }\n",
       "\n",
       "    .dataframe tbody tr th {\n",
       "        vertical-align: top;\n",
       "    }\n",
       "\n",
       "    .dataframe thead th {\n",
       "        text-align: right;\n",
       "    }\n",
       "</style>\n",
       "<table border=\"1\" class=\"dataframe\">\n",
       "  <thead>\n",
       "    <tr style=\"text-align: right;\">\n",
       "      <th></th>\n",
       "      <th>Day_of_month</th>\n",
       "      <th>ozone_reading</th>\n",
       "      <th>pressure_height</th>\n",
       "      <th>Wind_speed</th>\n",
       "      <th>Humidity</th>\n",
       "      <th>Inversion_temperature</th>\n",
       "      <th>Visibility</th>\n",
       "    </tr>\n",
       "  </thead>\n",
       "  <tbody>\n",
       "    <tr>\n",
       "      <th>count</th>\n",
       "      <td>103.000000</td>\n",
       "      <td>103.000000</td>\n",
       "      <td>103.000000</td>\n",
       "      <td>103.000000</td>\n",
       "      <td>103.000000</td>\n",
       "      <td>103.000000</td>\n",
       "      <td>103.000000</td>\n",
       "    </tr>\n",
       "    <tr>\n",
       "      <th>mean</th>\n",
       "      <td>14.980583</td>\n",
       "      <td>10.254175</td>\n",
       "      <td>5696.796117</td>\n",
       "      <td>5.174757</td>\n",
       "      <td>56.786408</td>\n",
       "      <td>56.254563</td>\n",
       "      <td>137.368932</td>\n",
       "    </tr>\n",
       "    <tr>\n",
       "      <th>std</th>\n",
       "      <td>8.465594</td>\n",
       "      <td>7.076096</td>\n",
       "      <td>116.056220</td>\n",
       "      <td>1.997190</td>\n",
       "      <td>18.472370</td>\n",
       "      <td>14.482588</td>\n",
       "      <td>84.619910</td>\n",
       "    </tr>\n",
       "    <tr>\n",
       "      <th>min</th>\n",
       "      <td>1.000000</td>\n",
       "      <td>1.800000</td>\n",
       "      <td>5320.000000</td>\n",
       "      <td>0.000000</td>\n",
       "      <td>19.000000</td>\n",
       "      <td>27.500000</td>\n",
       "      <td>2.000000</td>\n",
       "    </tr>\n",
       "    <tr>\n",
       "      <th>25%</th>\n",
       "      <td>8.000000</td>\n",
       "      <td>4.815000</td>\n",
       "      <td>5645.000000</td>\n",
       "      <td>4.000000</td>\n",
       "      <td>46.000000</td>\n",
       "      <td>45.680000</td>\n",
       "      <td>75.000000</td>\n",
       "    </tr>\n",
       "    <tr>\n",
       "      <th>50%</th>\n",
       "      <td>14.000000</td>\n",
       "      <td>8.680000</td>\n",
       "      <td>5710.000000</td>\n",
       "      <td>5.000000</td>\n",
       "      <td>61.000000</td>\n",
       "      <td>56.300000</td>\n",
       "      <td>120.000000</td>\n",
       "    </tr>\n",
       "    <tr>\n",
       "      <th>75%</th>\n",
       "      <td>22.000000</td>\n",
       "      <td>13.530000</td>\n",
       "      <td>5770.000000</td>\n",
       "      <td>6.000000</td>\n",
       "      <td>70.500000</td>\n",
       "      <td>66.020000</td>\n",
       "      <td>200.000000</td>\n",
       "    </tr>\n",
       "    <tr>\n",
       "      <th>max</th>\n",
       "      <td>31.000000</td>\n",
       "      <td>33.040000</td>\n",
       "      <td>5890.000000</td>\n",
       "      <td>11.000000</td>\n",
       "      <td>92.000000</td>\n",
       "      <td>89.780000</td>\n",
       "      <td>350.000000</td>\n",
       "    </tr>\n",
       "  </tbody>\n",
       "</table>\n",
       "</div>"
      ],
      "text/plain": [
       "       Day_of_month  ozone_reading  pressure_height  Wind_speed    Humidity  \\\n",
       "count    103.000000     103.000000       103.000000  103.000000  103.000000   \n",
       "mean      14.980583      10.254175      5696.796117    5.174757   56.786408   \n",
       "std        8.465594       7.076096       116.056220    1.997190   18.472370   \n",
       "min        1.000000       1.800000      5320.000000    0.000000   19.000000   \n",
       "25%        8.000000       4.815000      5645.000000    4.000000   46.000000   \n",
       "50%       14.000000       8.680000      5710.000000    5.000000   61.000000   \n",
       "75%       22.000000      13.530000      5770.000000    6.000000   70.500000   \n",
       "max       31.000000      33.040000      5890.000000   11.000000   92.000000   \n",
       "\n",
       "       Inversion_temperature  Visibility  \n",
       "count             103.000000  103.000000  \n",
       "mean               56.254563  137.368932  \n",
       "std                14.482588   84.619910  \n",
       "min                27.500000    2.000000  \n",
       "25%                45.680000   75.000000  \n",
       "50%                56.300000  120.000000  \n",
       "75%                66.020000  200.000000  \n",
       "max                89.780000  350.000000  "
      ]
     },
     "execution_count": 26,
     "metadata": {},
     "output_type": "execute_result"
    }
   ],
   "source": [
    "ozone_reading.describe()"
   ]
  },
  {
   "cell_type": "markdown",
   "metadata": {},
   "source": [
    "### Correlation matrix"
   ]
  },
  {
   "cell_type": "code",
   "execution_count": 27,
   "metadata": {},
   "outputs": [
    {
     "data": {
      "text/html": [
       "<div>\n",
       "<style scoped>\n",
       "    .dataframe tbody tr th:only-of-type {\n",
       "        vertical-align: middle;\n",
       "    }\n",
       "\n",
       "    .dataframe tbody tr th {\n",
       "        vertical-align: top;\n",
       "    }\n",
       "\n",
       "    .dataframe thead th {\n",
       "        text-align: right;\n",
       "    }\n",
       "</style>\n",
       "<table border=\"1\" class=\"dataframe\">\n",
       "  <thead>\n",
       "    <tr style=\"text-align: right;\">\n",
       "      <th></th>\n",
       "      <th>Day_of_month</th>\n",
       "      <th>ozone_reading</th>\n",
       "      <th>pressure_height</th>\n",
       "      <th>Wind_speed</th>\n",
       "      <th>Humidity</th>\n",
       "      <th>Inversion_temperature</th>\n",
       "      <th>Visibility</th>\n",
       "    </tr>\n",
       "  </thead>\n",
       "  <tbody>\n",
       "    <tr>\n",
       "      <th>Day_of_month</th>\n",
       "      <td>1.000000</td>\n",
       "      <td>0.203160</td>\n",
       "      <td>0.399783</td>\n",
       "      <td>-0.261894</td>\n",
       "      <td>-0.290985</td>\n",
       "      <td>0.335565</td>\n",
       "      <td>0.017624</td>\n",
       "    </tr>\n",
       "    <tr>\n",
       "      <th>ozone_reading</th>\n",
       "      <td>0.203160</td>\n",
       "      <td>1.000000</td>\n",
       "      <td>0.612084</td>\n",
       "      <td>-0.199935</td>\n",
       "      <td>0.301309</td>\n",
       "      <td>0.727284</td>\n",
       "      <td>-0.431484</td>\n",
       "    </tr>\n",
       "    <tr>\n",
       "      <th>pressure_height</th>\n",
       "      <td>0.399783</td>\n",
       "      <td>0.612084</td>\n",
       "      <td>1.000000</td>\n",
       "      <td>-0.428993</td>\n",
       "      <td>-0.075138</td>\n",
       "      <td>0.864661</td>\n",
       "      <td>-0.354413</td>\n",
       "    </tr>\n",
       "    <tr>\n",
       "      <th>Wind_speed</th>\n",
       "      <td>-0.261894</td>\n",
       "      <td>-0.199935</td>\n",
       "      <td>-0.428993</td>\n",
       "      <td>1.000000</td>\n",
       "      <td>0.156480</td>\n",
       "      <td>-0.354135</td>\n",
       "      <td>0.175619</td>\n",
       "    </tr>\n",
       "    <tr>\n",
       "      <th>Humidity</th>\n",
       "      <td>-0.290985</td>\n",
       "      <td>0.301309</td>\n",
       "      <td>-0.075138</td>\n",
       "      <td>0.156480</td>\n",
       "      <td>1.000000</td>\n",
       "      <td>0.013196</td>\n",
       "      <td>-0.300960</td>\n",
       "    </tr>\n",
       "    <tr>\n",
       "      <th>Inversion_temperature</th>\n",
       "      <td>0.335565</td>\n",
       "      <td>0.727284</td>\n",
       "      <td>0.864661</td>\n",
       "      <td>-0.354135</td>\n",
       "      <td>0.013196</td>\n",
       "      <td>1.000000</td>\n",
       "      <td>-0.401133</td>\n",
       "    </tr>\n",
       "    <tr>\n",
       "      <th>Visibility</th>\n",
       "      <td>0.017624</td>\n",
       "      <td>-0.431484</td>\n",
       "      <td>-0.354413</td>\n",
       "      <td>0.175619</td>\n",
       "      <td>-0.300960</td>\n",
       "      <td>-0.401133</td>\n",
       "      <td>1.000000</td>\n",
       "    </tr>\n",
       "  </tbody>\n",
       "</table>\n",
       "</div>"
      ],
      "text/plain": [
       "                       Day_of_month  ozone_reading  pressure_height  \\\n",
       "Day_of_month               1.000000       0.203160         0.399783   \n",
       "ozone_reading              0.203160       1.000000         0.612084   \n",
       "pressure_height            0.399783       0.612084         1.000000   \n",
       "Wind_speed                -0.261894      -0.199935        -0.428993   \n",
       "Humidity                  -0.290985       0.301309        -0.075138   \n",
       "Inversion_temperature      0.335565       0.727284         0.864661   \n",
       "Visibility                 0.017624      -0.431484        -0.354413   \n",
       "\n",
       "                       Wind_speed  Humidity  Inversion_temperature  Visibility  \n",
       "Day_of_month            -0.261894 -0.290985               0.335565    0.017624  \n",
       "ozone_reading           -0.199935  0.301309               0.727284   -0.431484  \n",
       "pressure_height         -0.428993 -0.075138               0.864661   -0.354413  \n",
       "Wind_speed               1.000000  0.156480              -0.354135    0.175619  \n",
       "Humidity                 0.156480  1.000000               0.013196   -0.300960  \n",
       "Inversion_temperature   -0.354135  0.013196               1.000000   -0.401133  \n",
       "Visibility               0.175619 -0.300960              -0.401133    1.000000  "
      ]
     },
     "execution_count": 27,
     "metadata": {},
     "output_type": "execute_result"
    }
   ],
   "source": [
    "ozone_reading_correlation = ozone_reading.corr()\n",
    "\n",
    "ozone_reading_correlation"
   ]
  },
  {
   "cell_type": "markdown",
   "metadata": {},
   "source": [
    "### Visualizing correlation matrix"
   ]
  },
  {
   "cell_type": "code",
   "execution_count": 28,
   "metadata": {},
   "outputs": [
    {
     "data": {
      "image/png": "[encoded data removed]",
      "text/plain": [
       "<Figure size 864x504 with 2 Axes>"
      ]
     },
     "metadata": {},
     "output_type": "display_data"
    }
   ],
   "source": [
    "fig, ax = plt.subplots(figsize=(12, 7))\n",
    "\n",
    "sns.heatmap(ozone_reading_correlation, \n",
    "            annot=True, \n",
    "            cmap='viridis')\n",
    "\n",
    "plt.show()"
   ]
  },
  {
   "cell_type": "markdown",
   "metadata": {},
   "source": [
    "### Creating a object of FeatureHasher"
   ]
  },
  {
   "cell_type": "code",
   "execution_count": 29,
   "metadata": {},
   "outputs": [],
   "source": [
    "fh = FeatureHasher(n_features=4, input_type='string')"
   ]
  },
  {
   "cell_type": "markdown",
   "metadata": {},
   "source": [
    "### Fitting and encoding the column"
   ]
  },
  {
   "cell_type": "code",
   "execution_count": 30,
   "metadata": {},
   "outputs": [],
   "source": [
    "hashed_features = fh.fit_transform(ozone_reading['Month'])"
   ]
  },
  {
   "cell_type": "markdown",
   "metadata": {},
   "source": [
    "### Printing the matrix as numpy array"
   ]
  },
  {
   "cell_type": "code",
   "execution_count": 31,
   "metadata": {},
   "outputs": [],
   "source": [
    "hashed_features = hashed_features.toarray()"
   ]
  },
  {
   "cell_type": "markdown",
   "metadata": {},
   "source": [
    "### The hashed Matrix"
   ]
  },
  {
   "cell_type": "code",
   "execution_count": 32,
   "metadata": {},
   "outputs": [
    {
     "data": {
      "text/plain": [
       "array([[0., 1., 3., 1.],\n",
       "       [0., 1., 3., 1.],\n",
       "       [0., 1., 3., 1.],\n",
       "       [0., 1., 3., 1.],\n",
       "       [0., 1., 3., 1.],\n",
       "       [0., 1., 3., 1.],\n",
       "       [0., 1., 3., 1.],\n",
       "       [0., 1., 3., 1.],\n",
       "       [0., 1., 3., 1.],\n",
       "       [0., 1., 3., 1.]])"
      ]
     },
     "execution_count": 32,
     "metadata": {},
     "output_type": "execute_result"
    }
   ],
   "source": [
    "hashed_features[:10]"
   ]
  },
  {
   "cell_type": "markdown",
   "metadata": {},
   "source": [
    "### Making a list to assign name to the hashed columns"
   ]
  },
  {
   "cell_type": "code",
   "execution_count": 37,
   "metadata": {},
   "outputs": [],
   "source": [
    "hashed_categories = ['month_hash_0', 'month_hash_1', 'month_hash_2', 'month_hash_3']"
   ]
  },
  {
   "cell_type": "markdown",
   "metadata": {},
   "source": [
    "### Printing the hashed columns along with the column name"
   ]
  },
  {
   "cell_type": "code",
   "execution_count": 41,
   "metadata": {},
   "outputs": [
    {
     "data": {
      "text/html": [
       "<div>\n",
       "<style scoped>\n",
       "    .dataframe tbody tr th:only-of-type {\n",
       "        vertical-align: middle;\n",
       "    }\n",
       "\n",
       "    .dataframe tbody tr th {\n",
       "        vertical-align: top;\n",
       "    }\n",
       "\n",
       "    .dataframe thead th {\n",
       "        text-align: right;\n",
       "    }\n",
       "</style>\n",
       "<table border=\"1\" class=\"dataframe\">\n",
       "  <thead>\n",
       "    <tr style=\"text-align: right;\">\n",
       "      <th></th>\n",
       "      <th>month_hash_0</th>\n",
       "      <th>month_hash_1</th>\n",
       "      <th>month_hash_2</th>\n",
       "      <th>month_hash_3</th>\n",
       "    </tr>\n",
       "  </thead>\n",
       "  <tbody>\n",
       "    <tr>\n",
       "      <th>94</th>\n",
       "      <td>0</td>\n",
       "      <td>0</td>\n",
       "      <td>0</td>\n",
       "      <td>2</td>\n",
       "    </tr>\n",
       "    <tr>\n",
       "      <th>14</th>\n",
       "      <td>0</td>\n",
       "      <td>1</td>\n",
       "      <td>3</td>\n",
       "      <td>1</td>\n",
       "    </tr>\n",
       "    <tr>\n",
       "      <th>29</th>\n",
       "      <td>1</td>\n",
       "      <td>1</td>\n",
       "      <td>1</td>\n",
       "      <td>1</td>\n",
       "    </tr>\n",
       "    <tr>\n",
       "      <th>24</th>\n",
       "      <td>1</td>\n",
       "      <td>1</td>\n",
       "      <td>1</td>\n",
       "      <td>1</td>\n",
       "    </tr>\n",
       "    <tr>\n",
       "      <th>70</th>\n",
       "      <td>1</td>\n",
       "      <td>0</td>\n",
       "      <td>0</td>\n",
       "      <td>0</td>\n",
       "    </tr>\n",
       "    <tr>\n",
       "      <th>42</th>\n",
       "      <td>0</td>\n",
       "      <td>-1</td>\n",
       "      <td>2</td>\n",
       "      <td>0</td>\n",
       "    </tr>\n",
       "    <tr>\n",
       "      <th>20</th>\n",
       "      <td>1</td>\n",
       "      <td>1</td>\n",
       "      <td>1</td>\n",
       "      <td>1</td>\n",
       "    </tr>\n",
       "    <tr>\n",
       "      <th>86</th>\n",
       "      <td>0</td>\n",
       "      <td>0</td>\n",
       "      <td>0</td>\n",
       "      <td>2</td>\n",
       "    </tr>\n",
       "    <tr>\n",
       "      <th>77</th>\n",
       "      <td>0</td>\n",
       "      <td>0</td>\n",
       "      <td>3</td>\n",
       "      <td>0</td>\n",
       "    </tr>\n",
       "    <tr>\n",
       "      <th>9</th>\n",
       "      <td>0</td>\n",
       "      <td>1</td>\n",
       "      <td>3</td>\n",
       "      <td>1</td>\n",
       "    </tr>\n",
       "  </tbody>\n",
       "</table>\n",
       "</div>"
      ],
      "text/plain": [
       "    month_hash_0  month_hash_1  month_hash_2  month_hash_3\n",
       "94             0             0             0             2\n",
       "14             0             1             3             1\n",
       "29             1             1             1             1\n",
       "24             1             1             1             1\n",
       "70             1             0             0             0\n",
       "42             0            -1             2             0\n",
       "20             1             1             1             1\n",
       "86             0             0             0             2\n",
       "77             0             0             3             0\n",
       "9              0             1             3             1"
      ]
     },
     "execution_count": 41,
     "metadata": {},
     "output_type": "execute_result"
    }
   ],
   "source": [
    "hashed_df = pd.DataFrame(hashed_features, \n",
    "                         columns = hashed_categories,\n",
    "                        dtype=np.int)\n",
    "\n",
    "hashed_df.sample(10)"
   ]
  },
  {
   "cell_type": "markdown",
   "metadata": {},
   "source": [
    "### Concating the hashed columns with the dataset"
   ]
  },
  {
   "cell_type": "code",
   "execution_count": 42,
   "metadata": {},
   "outputs": [
    {
     "data": {
      "text/html": [
       "<div>\n",
       "<style scoped>\n",
       "    .dataframe tbody tr th:only-of-type {\n",
       "        vertical-align: middle;\n",
       "    }\n",
       "\n",
       "    .dataframe tbody tr th {\n",
       "        vertical-align: top;\n",
       "    }\n",
       "\n",
       "    .dataframe thead th {\n",
       "        text-align: right;\n",
       "    }\n",
       "</style>\n",
       "<table border=\"1\" class=\"dataframe\">\n",
       "  <thead>\n",
       "    <tr style=\"text-align: right;\">\n",
       "      <th></th>\n",
       "      <th>Month</th>\n",
       "      <th>Day_of_month</th>\n",
       "      <th>ozone_reading</th>\n",
       "      <th>pressure_height</th>\n",
       "      <th>Wind_speed</th>\n",
       "      <th>Humidity</th>\n",
       "      <th>Inversion_temperature</th>\n",
       "      <th>Visibility</th>\n",
       "      <th>month_hash_0</th>\n",
       "      <th>month_hash_1</th>\n",
       "      <th>month_hash_2</th>\n",
       "      <th>month_hash_3</th>\n",
       "    </tr>\n",
       "  </thead>\n",
       "  <tbody>\n",
       "    <tr>\n",
       "      <th>42</th>\n",
       "      <td>March</td>\n",
       "      <td>12</td>\n",
       "      <td>7.63</td>\n",
       "      <td>5690</td>\n",
       "      <td>0</td>\n",
       "      <td>60</td>\n",
       "      <td>59.72</td>\n",
       "      <td>300</td>\n",
       "      <td>0</td>\n",
       "      <td>-1</td>\n",
       "      <td>2</td>\n",
       "      <td>0</td>\n",
       "    </tr>\n",
       "    <tr>\n",
       "      <th>40</th>\n",
       "      <td>March</td>\n",
       "      <td>10</td>\n",
       "      <td>3.01</td>\n",
       "      <td>5530</td>\n",
       "      <td>5</td>\n",
       "      <td>61</td>\n",
       "      <td>35.60</td>\n",
       "      <td>200</td>\n",
       "      <td>0</td>\n",
       "      <td>-1</td>\n",
       "      <td>2</td>\n",
       "      <td>0</td>\n",
       "    </tr>\n",
       "    <tr>\n",
       "      <th>34</th>\n",
       "      <td>March</td>\n",
       "      <td>1</td>\n",
       "      <td>2.26</td>\n",
       "      <td>5550</td>\n",
       "      <td>10</td>\n",
       "      <td>74</td>\n",
       "      <td>40.10</td>\n",
       "      <td>80</td>\n",
       "      <td>0</td>\n",
       "      <td>-1</td>\n",
       "      <td>2</td>\n",
       "      <td>0</td>\n",
       "    </tr>\n",
       "    <tr>\n",
       "      <th>7</th>\n",
       "      <td>January</td>\n",
       "      <td>14</td>\n",
       "      <td>4.35</td>\n",
       "      <td>5780</td>\n",
       "      <td>6</td>\n",
       "      <td>19</td>\n",
       "      <td>56.30</td>\n",
       "      <td>200</td>\n",
       "      <td>0</td>\n",
       "      <td>1</td>\n",
       "      <td>3</td>\n",
       "      <td>1</td>\n",
       "    </tr>\n",
       "    <tr>\n",
       "      <th>100</th>\n",
       "      <td>June</td>\n",
       "      <td>22</td>\n",
       "      <td>19.93</td>\n",
       "      <td>5770</td>\n",
       "      <td>5</td>\n",
       "      <td>64</td>\n",
       "      <td>75.56</td>\n",
       "      <td>120</td>\n",
       "      <td>0</td>\n",
       "      <td>0</td>\n",
       "      <td>0</td>\n",
       "      <td>2</td>\n",
       "    </tr>\n",
       "    <tr>\n",
       "      <th>30</th>\n",
       "      <td>February</td>\n",
       "      <td>24</td>\n",
       "      <td>6.04</td>\n",
       "      <td>5640</td>\n",
       "      <td>5</td>\n",
       "      <td>68</td>\n",
       "      <td>42.08</td>\n",
       "      <td>300</td>\n",
       "      <td>1</td>\n",
       "      <td>1</td>\n",
       "      <td>1</td>\n",
       "      <td>1</td>\n",
       "    </tr>\n",
       "    <tr>\n",
       "      <th>73</th>\n",
       "      <td>April</td>\n",
       "      <td>28</td>\n",
       "      <td>8.68</td>\n",
       "      <td>5650</td>\n",
       "      <td>6</td>\n",
       "      <td>46</td>\n",
       "      <td>37.94</td>\n",
       "      <td>150</td>\n",
       "      <td>1</td>\n",
       "      <td>0</td>\n",
       "      <td>0</td>\n",
       "      <td>0</td>\n",
       "    </tr>\n",
       "    <tr>\n",
       "      <th>61</th>\n",
       "      <td>April</td>\n",
       "      <td>9</td>\n",
       "      <td>10.07</td>\n",
       "      <td>5620</td>\n",
       "      <td>7</td>\n",
       "      <td>57</td>\n",
       "      <td>47.66</td>\n",
       "      <td>120</td>\n",
       "      <td>1</td>\n",
       "      <td>0</td>\n",
       "      <td>0</td>\n",
       "      <td>0</td>\n",
       "    </tr>\n",
       "    <tr>\n",
       "      <th>78</th>\n",
       "      <td>May</td>\n",
       "      <td>7</td>\n",
       "      <td>11.79</td>\n",
       "      <td>5650</td>\n",
       "      <td>8</td>\n",
       "      <td>66</td>\n",
       "      <td>55.22</td>\n",
       "      <td>140</td>\n",
       "      <td>0</td>\n",
       "      <td>0</td>\n",
       "      <td>3</td>\n",
       "      <td>0</td>\n",
       "    </tr>\n",
       "    <tr>\n",
       "      <th>63</th>\n",
       "      <td>April</td>\n",
       "      <td>13</td>\n",
       "      <td>3.65</td>\n",
       "      <td>5440</td>\n",
       "      <td>5</td>\n",
       "      <td>44</td>\n",
       "      <td>32.54</td>\n",
       "      <td>80</td>\n",
       "      <td>1</td>\n",
       "      <td>0</td>\n",
       "      <td>0</td>\n",
       "      <td>0</td>\n",
       "    </tr>\n",
       "  </tbody>\n",
       "</table>\n",
       "</div>"
      ],
      "text/plain": [
       "        Month  Day_of_month  ozone_reading  pressure_height  Wind_speed  \\\n",
       "42      March            12           7.63             5690           0   \n",
       "40      March            10           3.01             5530           5   \n",
       "34      March             1           2.26             5550          10   \n",
       "7     January            14           4.35             5780           6   \n",
       "100      June            22          19.93             5770           5   \n",
       "30   February            24           6.04             5640           5   \n",
       "73      April            28           8.68             5650           6   \n",
       "61      April             9          10.07             5620           7   \n",
       "78        May             7          11.79             5650           8   \n",
       "63      April            13           3.65             5440           5   \n",
       "\n",
       "     Humidity  Inversion_temperature  Visibility  month_hash_0  month_hash_1  \\\n",
       "42         60                  59.72         300             0            -1   \n",
       "40         61                  35.60         200             0            -1   \n",
       "34         74                  40.10          80             0            -1   \n",
       "7          19                  56.30         200             0             1   \n",
       "100        64                  75.56         120             0             0   \n",
       "30         68                  42.08         300             1             1   \n",
       "73         46                  37.94         150             1             0   \n",
       "61         57                  47.66         120             1             0   \n",
       "78         66                  55.22         140             0             0   \n",
       "63         44                  32.54          80             1             0   \n",
       "\n",
       "     month_hash_2  month_hash_3  \n",
       "42              2             0  \n",
       "40              2             0  \n",
       "34              2             0  \n",
       "7               3             1  \n",
       "100             0             2  \n",
       "30              1             1  \n",
       "73              0             0  \n",
       "61              0             0  \n",
       "78              3             0  \n",
       "63              0             0  "
      ]
     },
     "execution_count": 42,
     "metadata": {},
     "output_type": "execute_result"
    }
   ],
   "source": [
    "hashed_ozone_reading = pd.concat([ozone_reading, hashed_df], axis=1)\n",
    "\n",
    "hashed_ozone_reading.sample(10)"
   ]
  },
  {
   "cell_type": "markdown",
   "metadata": {},
   "source": [
    "### Deleting the column `Month` as the hashed format of this column will be used"
   ]
  },
  {
   "cell_type": "code",
   "execution_count": 43,
   "metadata": {},
   "outputs": [],
   "source": [
    "hashed_ozone_reading.drop(columns=['Month'], inplace=True)"
   ]
  },
  {
   "cell_type": "markdown",
   "metadata": {},
   "source": [
    "### Spliting the dataset"
   ]
  },
  {
   "cell_type": "code",
   "execution_count": 48,
   "metadata": {},
   "outputs": [],
   "source": [
    "X = hashed_ozone_reading.drop('ozone_reading', axis=1)\n",
    "y = hashed_ozone_reading.ozone_reading"
   ]
  },
  {
   "cell_type": "code",
   "execution_count": 49,
   "metadata": {},
   "outputs": [
    {
     "data": {
      "text/html": [
       "<div>\n",
       "<style scoped>\n",
       "    .dataframe tbody tr th:only-of-type {\n",
       "        vertical-align: middle;\n",
       "    }\n",
       "\n",
       "    .dataframe tbody tr th {\n",
       "        vertical-align: top;\n",
       "    }\n",
       "\n",
       "    .dataframe thead th {\n",
       "        text-align: right;\n",
       "    }\n",
       "</style>\n",
       "<table border=\"1\" class=\"dataframe\">\n",
       "  <thead>\n",
       "    <tr style=\"text-align: right;\">\n",
       "      <th></th>\n",
       "      <th>Day_of_month</th>\n",
       "      <th>pressure_height</th>\n",
       "      <th>Wind_speed</th>\n",
       "      <th>Humidity</th>\n",
       "      <th>Inversion_temperature</th>\n",
       "      <th>Visibility</th>\n",
       "      <th>month_hash_0</th>\n",
       "      <th>month_hash_1</th>\n",
       "      <th>month_hash_2</th>\n",
       "      <th>month_hash_3</th>\n",
       "    </tr>\n",
       "  </thead>\n",
       "  <tbody>\n",
       "    <tr>\n",
       "      <th>4</th>\n",
       "      <td>9</td>\n",
       "      <td>5700</td>\n",
       "      <td>3</td>\n",
       "      <td>73</td>\n",
       "      <td>52.52</td>\n",
       "      <td>120</td>\n",
       "      <td>0</td>\n",
       "      <td>1</td>\n",
       "      <td>3</td>\n",
       "      <td>1</td>\n",
       "    </tr>\n",
       "    <tr>\n",
       "      <th>84</th>\n",
       "      <td>25</td>\n",
       "      <td>5730</td>\n",
       "      <td>5</td>\n",
       "      <td>71</td>\n",
       "      <td>59.36</td>\n",
       "      <td>200</td>\n",
       "      <td>0</td>\n",
       "      <td>0</td>\n",
       "      <td>3</td>\n",
       "      <td>0</td>\n",
       "    </tr>\n",
       "    <tr>\n",
       "      <th>2</th>\n",
       "      <td>7</td>\n",
       "      <td>5790</td>\n",
       "      <td>6</td>\n",
       "      <td>19</td>\n",
       "      <td>54.14</td>\n",
       "      <td>100</td>\n",
       "      <td>0</td>\n",
       "      <td>1</td>\n",
       "      <td>3</td>\n",
       "      <td>1</td>\n",
       "    </tr>\n",
       "    <tr>\n",
       "      <th>90</th>\n",
       "      <td>8</td>\n",
       "      <td>5650</td>\n",
       "      <td>6</td>\n",
       "      <td>66</td>\n",
       "      <td>55.40</td>\n",
       "      <td>120</td>\n",
       "      <td>0</td>\n",
       "      <td>0</td>\n",
       "      <td>0</td>\n",
       "      <td>2</td>\n",
       "    </tr>\n",
       "    <tr>\n",
       "      <th>35</th>\n",
       "      <td>2</td>\n",
       "      <td>5470</td>\n",
       "      <td>7</td>\n",
       "      <td>46</td>\n",
       "      <td>29.30</td>\n",
       "      <td>300</td>\n",
       "      <td>0</td>\n",
       "      <td>-1</td>\n",
       "      <td>2</td>\n",
       "      <td>0</td>\n",
       "    </tr>\n",
       "    <tr>\n",
       "      <th>44</th>\n",
       "      <td>16</td>\n",
       "      <td>5790</td>\n",
       "      <td>2</td>\n",
       "      <td>42</td>\n",
       "      <td>71.06</td>\n",
       "      <td>50</td>\n",
       "      <td>0</td>\n",
       "      <td>-1</td>\n",
       "      <td>2</td>\n",
       "      <td>0</td>\n",
       "    </tr>\n",
       "    <tr>\n",
       "      <th>24</th>\n",
       "      <td>12</td>\n",
       "      <td>5680</td>\n",
       "      <td>5</td>\n",
       "      <td>50</td>\n",
       "      <td>45.50</td>\n",
       "      <td>300</td>\n",
       "      <td>1</td>\n",
       "      <td>1</td>\n",
       "      <td>1</td>\n",
       "      <td>1</td>\n",
       "    </tr>\n",
       "    <tr>\n",
       "      <th>81</th>\n",
       "      <td>12</td>\n",
       "      <td>5880</td>\n",
       "      <td>3</td>\n",
       "      <td>80</td>\n",
       "      <td>86.36</td>\n",
       "      <td>40</td>\n",
       "      <td>0</td>\n",
       "      <td>0</td>\n",
       "      <td>3</td>\n",
       "      <td>0</td>\n",
       "    </tr>\n",
       "    <tr>\n",
       "      <th>69</th>\n",
       "      <td>22</td>\n",
       "      <td>5660</td>\n",
       "      <td>6</td>\n",
       "      <td>58</td>\n",
       "      <td>51.26</td>\n",
       "      <td>120</td>\n",
       "      <td>1</td>\n",
       "      <td>0</td>\n",
       "      <td>0</td>\n",
       "      <td>0</td>\n",
       "    </tr>\n",
       "    <tr>\n",
       "      <th>5</th>\n",
       "      <td>12</td>\n",
       "      <td>5720</td>\n",
       "      <td>3</td>\n",
       "      <td>44</td>\n",
       "      <td>63.14</td>\n",
       "      <td>150</td>\n",
       "      <td>0</td>\n",
       "      <td>1</td>\n",
       "      <td>3</td>\n",
       "      <td>1</td>\n",
       "    </tr>\n",
       "  </tbody>\n",
       "</table>\n",
       "</div>"
      ],
      "text/plain": [
       "    Day_of_month  pressure_height  Wind_speed  Humidity  \\\n",
       "4              9             5700           3        73   \n",
       "84            25             5730           5        71   \n",
       "2              7             5790           6        19   \n",
       "90             8             5650           6        66   \n",
       "35             2             5470           7        46   \n",
       "44            16             5790           2        42   \n",
       "24            12             5680           5        50   \n",
       "81            12             5880           3        80   \n",
       "69            22             5660           6        58   \n",
       "5             12             5720           3        44   \n",
       "\n",
       "    Inversion_temperature  Visibility  month_hash_0  month_hash_1  \\\n",
       "4                   52.52         120             0             1   \n",
       "84                  59.36         200             0             0   \n",
       "2                   54.14         100             0             1   \n",
       "90                  55.40         120             0             0   \n",
       "35                  29.30         300             0            -1   \n",
       "44                  71.06          50             0            -1   \n",
       "24                  45.50         300             1             1   \n",
       "81                  86.36          40             0             0   \n",
       "69                  51.26         120             1             0   \n",
       "5                   63.14         150             0             1   \n",
       "\n",
       "    month_hash_2  month_hash_3  \n",
       "4              3             1  \n",
       "84             3             0  \n",
       "2              3             1  \n",
       "90             0             2  \n",
       "35             2             0  \n",
       "44             2             0  \n",
       "24             1             1  \n",
       "81             3             0  \n",
       "69             0             0  \n",
       "5              3             1  "
      ]
     },
     "execution_count": 49,
     "metadata": {},
     "output_type": "execute_result"
    }
   ],
   "source": [
    "X.sample(10)"
   ]
  },
  {
   "cell_type": "code",
   "execution_count": 50,
   "metadata": {},
   "outputs": [
    {
     "data": {
      "text/plain": [
       "8      3.94\n",
       "75    21.12\n",
       "95    26.89\n",
       "7      4.35\n",
       "45    24.29\n",
       "79    19.98\n",
       "85     4.82\n",
       "68    17.32\n",
       "13     4.90\n",
       "74    18.79\n",
       "Name: ozone_reading, dtype: float64"
      ]
     },
     "execution_count": 50,
     "metadata": {},
     "output_type": "execute_result"
    }
   ],
   "source": [
    "y.sample(10)"
   ]
  },
  {
   "cell_type": "markdown",
   "metadata": {},
   "source": [
    "### Importing sklearn linear regression model\n",
    "https://scikit-learn.org/stable/modules/generated/sklearn.linear_model.LinearRegression.html"
   ]
  },
  {
   "cell_type": "markdown",
   "metadata": {},
   "source": [
    "### Creating a object of the `Linear Regression class`"
   ]
  },
  {
   "cell_type": "code",
   "execution_count": 51,
   "metadata": {},
   "outputs": [],
   "source": [
    "from sklearn.linear_model import LinearRegression"
   ]
  },
  {
   "cell_type": "markdown",
   "metadata": {},
   "source": [
    "### Creating and training model"
   ]
  },
  {
   "cell_type": "code",
   "execution_count": 59,
   "metadata": {},
   "outputs": [
    {
     "name": "stdout",
     "output_type": "stream",
     "text": [
      "Training score 0.7115996610285057\n"
     ]
    }
   ],
   "source": [
    "linear_model = LinearRegression()\n",
    "\n",
    "linear_model.fit(X, y)\n",
    "\n",
    "print('Training score', linear_model.score(X, y))"
   ]
  },
  {
   "cell_type": "code",
   "execution_count": 56,
   "metadata": {},
   "outputs": [
    {
     "data": {
      "text/plain": [
       "array([-0.04483166,  0.01323269,  0.10941852,  0.07175265,  0.32567416,\n",
       "       -0.00569076,  4.85695496, -3.51166874,  0.10850361,  0.430177  ])"
      ]
     },
     "execution_count": 56,
     "metadata": {},
     "output_type": "execute_result"
    }
   ],
   "source": [
    "linear_model.coef_"
   ]
  },
  {
   "cell_type": "code",
   "execution_count": 57,
   "metadata": {},
   "outputs": [
    {
     "data": {
      "text/plain": [
       "-88.41800198093256"
      ]
     },
     "execution_count": 57,
     "metadata": {},
     "output_type": "execute_result"
    }
   ],
   "source": [
    "linear_model.intercept_"
   ]
  },
  {
   "cell_type": "code",
   "execution_count": 62,
   "metadata": {},
   "outputs": [
    {
     "data": {
      "text/html": [
       "<table class=\"simpletable\">\n",
       "<caption>OLS Regression Results</caption>\n",
       "<tr>\n",
       "  <th>Dep. Variable:</th>      <td>ozone_reading</td>  <th>  R-squared:         </th> <td>   0.712</td>\n",
       "</tr>\n",
       "<tr>\n",
       "  <th>Model:</th>                   <td>OLS</td>       <th>  Adj. R-squared:    </th> <td>   0.680</td>\n",
       "</tr>\n",
       "<tr>\n",
       "  <th>Method:</th>             <td>Least Squares</td>  <th>  F-statistic:       </th> <td>   22.70</td>\n",
       "</tr>\n",
       "<tr>\n",
       "  <th>Date:</th>             <td>Mon, 01 Jul 2019</td> <th>  Prob (F-statistic):</th> <td>8.83e-21</td>\n",
       "</tr>\n",
       "<tr>\n",
       "  <th>Time:</th>                 <td>12:19:59</td>     <th>  Log-Likelihood:    </th> <td> -283.16</td>\n",
       "</tr>\n",
       "<tr>\n",
       "  <th>No. Observations:</th>      <td>   103</td>      <th>  AIC:               </th> <td>   588.3</td>\n",
       "</tr>\n",
       "<tr>\n",
       "  <th>Df Residuals:</th>          <td>    92</td>      <th>  BIC:               </th> <td>   617.3</td>\n",
       "</tr>\n",
       "<tr>\n",
       "  <th>Df Model:</th>              <td>    10</td>      <th>                     </th>     <td> </td>   \n",
       "</tr>\n",
       "<tr>\n",
       "  <th>Covariance Type:</th>      <td>nonrobust</td>    <th>                     </th>     <td> </td>   \n",
       "</tr>\n",
       "</table>\n",
       "<table class=\"simpletable\">\n",
       "<tr>\n",
       "            <td></td>               <th>coef</th>     <th>std err</th>      <th>t</th>      <th>P>|t|</th>  <th>[0.025</th>    <th>0.975]</th>  \n",
       "</tr>\n",
       "<tr>\n",
       "  <th>const</th>                 <td>  -88.4180</td> <td>   41.954</td> <td>   -2.108</td> <td> 0.038</td> <td> -171.742</td> <td>   -5.094</td>\n",
       "</tr>\n",
       "<tr>\n",
       "  <th>Day_of_month</th>          <td>   -0.0448</td> <td>    0.058</td> <td>   -0.778</td> <td> 0.439</td> <td>   -0.159</td> <td>    0.070</td>\n",
       "</tr>\n",
       "<tr>\n",
       "  <th>pressure_height</th>       <td>    0.0132</td> <td>    0.008</td> <td>    1.733</td> <td> 0.086</td> <td>   -0.002</td> <td>    0.028</td>\n",
       "</tr>\n",
       "<tr>\n",
       "  <th>Wind_speed</th>            <td>    0.1094</td> <td>    0.227</td> <td>    0.482</td> <td> 0.631</td> <td>   -0.342</td> <td>    0.561</td>\n",
       "</tr>\n",
       "<tr>\n",
       "  <th>Humidity</th>              <td>    0.0718</td> <td>    0.025</td> <td>    2.834</td> <td> 0.006</td> <td>    0.021</td> <td>    0.122</td>\n",
       "</tr>\n",
       "<tr>\n",
       "  <th>Inversion_temperature</th> <td>    0.3257</td> <td>    0.057</td> <td>    5.742</td> <td> 0.000</td> <td>    0.213</td> <td>    0.438</td>\n",
       "</tr>\n",
       "<tr>\n",
       "  <th>Visibility</th>            <td>   -0.0057</td> <td>    0.006</td> <td>   -1.021</td> <td> 0.310</td> <td>   -0.017</td> <td>    0.005</td>\n",
       "</tr>\n",
       "<tr>\n",
       "  <th>month_hash_0</th>          <td>    4.8570</td> <td>    3.478</td> <td>    1.397</td> <td> 0.166</td> <td>   -2.050</td> <td>   11.764</td>\n",
       "</tr>\n",
       "<tr>\n",
       "  <th>month_hash_1</th>          <td>   -3.5117</td> <td>    1.937</td> <td>   -1.813</td> <td> 0.073</td> <td>   -7.359</td> <td>    0.336</td>\n",
       "</tr>\n",
       "<tr>\n",
       "  <th>month_hash_2</th>          <td>    0.1085</td> <td>    1.174</td> <td>    0.092</td> <td> 0.927</td> <td>   -2.223</td> <td>    2.440</td>\n",
       "</tr>\n",
       "<tr>\n",
       "  <th>month_hash_3</th>          <td>    0.4302</td> <td>    1.828</td> <td>    0.235</td> <td> 0.814</td> <td>   -3.200</td> <td>    4.060</td>\n",
       "</tr>\n",
       "</table>\n",
       "<table class=\"simpletable\">\n",
       "<tr>\n",
       "  <th>Omnibus:</th>       <td> 3.013</td> <th>  Durbin-Watson:     </th> <td>   1.793</td>\n",
       "</tr>\n",
       "<tr>\n",
       "  <th>Prob(Omnibus):</th> <td> 0.222</td> <th>  Jarque-Bera (JB):  </th> <td>   2.416</td>\n",
       "</tr>\n",
       "<tr>\n",
       "  <th>Skew:</th>          <td> 0.349</td> <th>  Prob(JB):          </th> <td>   0.299</td>\n",
       "</tr>\n",
       "<tr>\n",
       "  <th>Kurtosis:</th>      <td> 3.277</td> <th>  Cond. No.          </th> <td>6.07e+05</td>\n",
       "</tr>\n",
       "</table>"
      ],
      "text/plain": [
       "<class 'statsmodels.iolib.summary.Summary'>\n",
       "\"\"\"\n",
       "                            OLS Regression Results                            \n",
       "==============================================================================\n",
       "Dep. Variable:          ozone_reading   R-squared:                       0.712\n",
       "Model:                            OLS   Adj. R-squared:                  0.680\n",
       "Method:                 Least Squares   F-statistic:                     22.70\n",
       "Date:                Mon, 01 Jul 2019   Prob (F-statistic):           8.83e-21\n",
       "Time:                        12:19:59   Log-Likelihood:                -283.16\n",
       "No. Observations:                 103   AIC:                             588.3\n",
       "Df Residuals:                      92   BIC:                             617.3\n",
       "Df Model:                          10                                         \n",
       "Covariance Type:            nonrobust                                         \n",
       "=========================================================================================\n",
       "                            coef    std err          t      P>|t|      [0.025      0.975]\n",
       "-----------------------------------------------------------------------------------------\n",
       "const                   -88.4180     41.954     -2.108      0.038    -171.742      -5.094\n",
       "Day_of_month             -0.0448      0.058     -0.778      0.439      -0.159       0.070\n",
       "pressure_height           0.0132      0.008      1.733      0.086      -0.002       0.028\n",
       "Wind_speed                0.1094      0.227      0.482      0.631      -0.342       0.561\n",
       "Humidity                  0.0718      0.025      2.834      0.006       0.021       0.122\n",
       "Inversion_temperature     0.3257      0.057      5.742      0.000       0.213       0.438\n",
       "Visibility               -0.0057      0.006     -1.021      0.310      -0.017       0.005\n",
       "month_hash_0              4.8570      3.478      1.397      0.166      -2.050      11.764\n",
       "month_hash_1             -3.5117      1.937     -1.813      0.073      -7.359       0.336\n",
       "month_hash_2              0.1085      1.174      0.092      0.927      -2.223       2.440\n",
       "month_hash_3              0.4302      1.828      0.235      0.814      -3.200       4.060\n",
       "==============================================================================\n",
       "Omnibus:                        3.013   Durbin-Watson:                   1.793\n",
       "Prob(Omnibus):                  0.222   Jarque-Bera (JB):                2.416\n",
       "Skew:                           0.349   Prob(JB):                        0.299\n",
       "Kurtosis:                       3.277   Cond. No.                     6.07e+05\n",
       "==============================================================================\n",
       "\n",
       "Warnings:\n",
       "[1] Standard Errors assume that the covariance matrix of the errors is correctly specified.\n",
       "[2] The condition number is large, 6.07e+05. This might indicate that there are\n",
       "strong multicollinearity or other numerical problems.\n",
       "\"\"\""
      ]
     },
     "execution_count": 62,
     "metadata": {},
     "output_type": "execute_result"
    }
   ],
   "source": [
    "import statsmodels.api as sm\n",
    "\n",
    "X_with_constant = sm.add_constant(X)\n",
    "\n",
    "mod = sm.OLS(y, X_with_constant)\n",
    "\n",
    "res = mod.fit()\n",
    "\n",
    "res.summary()"
   ]
  },
  {
   "cell_type": "code",
   "execution_count": null,
   "metadata": {
    "collapsed": true
   },
   "outputs": [],
   "source": []
  }
 ],
 "metadata": {
  "kernelspec": {
   "display_name": "Python 3",
   "language": "python",
   "name": "python3"
  },
  "language_info": {
   "codemirror_mode": {
    "name": "ipython",
    "version": 3
   },
   "file_extension": ".py",
   "mimetype": "text/x-python",
   "name": "python",
   "nbconvert_exporter": "python",
   "pygments_lexer": "ipython3",
   "version": "3.6.4"
  }
 },
 "nbformat": 4,
 "nbformat_minor": 2
}
